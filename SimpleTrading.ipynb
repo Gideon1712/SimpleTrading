{
  "nbformat": 4,
  "nbformat_minor": 0,
  "metadata": {
    "colab": {
      "provenance": [],
      "authorship_tag": "ABX9TyMN5/W84KX93Wfd51Dt4Q9J",
      "include_colab_link": true
    },
    "kernelspec": {
      "name": "python3",
      "display_name": "Python 3"
    },
    "language_info": {
      "name": "python"
    }
  },
  "cells": [
    {
      "cell_type": "markdown",
      "metadata": {
        "id": "view-in-github",
        "colab_type": "text"
      },
      "source": [
        "<a href=\"https://colab.research.google.com/github/Gideon1712/SimpleTrading/blob/main/SimpleTrading.ipynb\" target=\"_parent\"><img src=\"https://colab.research.google.com/assets/colab-badge.svg\" alt=\"Open In Colab\"/></a>"
      ]
    },
    {
      "cell_type": "markdown",
      "source": [
        "App.py"
      ],
      "metadata": {
        "id": "iegqWMpgwmQW"
      }
    },
    {
      "cell_type": "code",
      "source": [
        "pip install Flask"
      ],
      "metadata": {
        "id": "1zkPYHuI3fV_"
      },
      "execution_count": null,
      "outputs": []
    },
    {
      "cell_type": "code",
      "source": [
        "from flask import Flask, render_template, request, redirect, url_for, flash, session\n",
        "from datetime import datetime, timedelta\n",
        "import sqlite3\n",
        "import time\n",
        "\n",
        "app = Flask(__name__)\n",
        "app.secret_key = 'supersecretkey'\n",
        "\n",
        "# Database setup\n",
        "def init_db():\n",
        "    conn = sqlite3.connect('users.db')\n",
        "    c = conn.cursor()\n",
        "    c.execute('''CREATE TABLE IF NOT EXISTS users\n",
        "                 (id INTEGER PRIMARY KEY, username TEXT UNIQUE, password TEXT, failed_attempts INTEGER, lock_until INTEGER)''')\n",
        "    conn.commit()\n",
        "    conn.close()\n",
        "\n",
        "init_db()\n",
        "\n",
        "# Routes\n",
        "@app.route('/')\n",
        "def home():\n",
        "    return render_template('login.html')\n",
        "\n",
        "@app.route('/login', methods=['POST'])\n",
        "def login():\n",
        "    username = request.form['username']\n",
        "    password = request.form['password']\n",
        "\n",
        "    conn = sqlite3.connect('users.db')\n",
        "    c = conn.cursor()\n",
        "    c.execute('SELECT * FROM users WHERE username=?', (username,))\n",
        "    user = c.fetchone()\n",
        "\n",
        "    if user:\n",
        "        user_id, db_username, db_password, failed_attempts, lock_until = user\n",
        "\n",
        "        if lock_until and time.time() < lock_until:\n",
        "            wait_time = int((lock_until - time.time()) / 60)\n",
        "            flash(f'Account locked. Try again in {wait_time} minutes.')\n",
        "            return redirect(url_for('home'))\n",
        "\n",
        "        if password == db_password:\n",
        "            session['user'] = username\n",
        "            flash('Welcome User')\n",
        "            c.execute('UPDATE users SET failed_attempts=0, lock_until=NULL WHERE username=?', (username,))\n",
        "            conn.commit()\n",
        "            return redirect(url_for('home'))\n",
        "        else:\n",
        "            failed_attempts += 1\n",
        "            lock_until = None\n",
        "            if failed_attempts > 5:\n",
        "                lock_until = time.time() + (5 * 60 * (failed_attempts // 5))\n",
        "            c.execute('UPDATE users SET failed_attempts=?, lock_until=? WHERE username=?', (failed_attempts, lock_until, username))\n",
        "            conn.commit()\n",
        "            flash('Incorrect username or password.')\n",
        "    else:\n",
        "        flash('User does not exist.')\n",
        "\n",
        "    conn.close()\n",
        "    return redirect(url_for('home'))\n",
        "\n",
        "@app.route('/signup', methods=['GET', 'POST'])\n",
        "def signup():\n",
        "    if request.method == 'POST':\n",
        "        username = request.form['username']\n",
        "        password = request.form['password']\n",
        "        conn = sqlite3.connect('users.db')\n",
        "        c = conn.cursor()\n",
        "        try:\n",
        "            c.execute('INSERT INTO users (username, password, failed_attempts) VALUES (?, ?, 0)', (username, password))\n",
        "            conn.commit()\n",
        "            flash('User created successfully.')\n",
        "            return redirect(url_for('home'))\n",
        "        except sqlite3.IntegrityError:\n",
        "            flash('Username already exists.')\n",
        "        conn.close()\n",
        "    return render_template('signup.html')\n",
        "\n",
        "if __name__ == '__main__':\n",
        "    app.run(debug=True)\n"
      ],
      "metadata": {
        "colab": {
          "base_uri": "https://localhost:8080/"
        },
        "id": "S0RfkSdQwodD",
        "outputId": "8f1621f4-0bc4-4797-b6f4-5df252fbf063"
      },
      "execution_count": 11,
      "outputs": [
        {
          "metadata": {
            "tags": null
          },
          "name": "stdout",
          "output_type": "stream",
          "text": [
            " * Serving Flask app '__main__'\n",
            " * Debug mode: on\n"
          ]
        },
        {
          "metadata": {
            "tags": null
          },
          "name": "stderr",
          "output_type": "stream",
          "text": [
            "INFO:werkzeug:\u001b[31m\u001b[1mWARNING: This is a development server. Do not use it in a production deployment. Use a production WSGI server instead.\u001b[0m\n",
            " * Running on http://127.0.0.1:5000\n",
            "INFO:werkzeug:\u001b[33mPress CTRL+C to quit\u001b[0m\n",
            "INFO:werkzeug: * Restarting with stat\n"
          ]
        }
      ]
    }
  ]
}